{
 "cells": [
  {
   "cell_type": "code",
   "execution_count": 1,
   "metadata": {},
   "outputs": [
    {
     "data": {
      "text/plain": [
       "\"\\n    Her ilce icin esit sayida veri yok. Bu sayilar ilce_tarih_sayilari degiskeninde tutulu.\\n\\n    Yapilmasi gerekenler:\\n        - Weather'daki verileri gunluge cevir. ++++\\n        - Her ilce icin hava durumu verilerini(bir gun icin ortalama alaraktan), tarihleri, tatil_flag'lari\\n        kesinti sayilarini tutan bir DataFrame olustur. ++++\\n        - Kesinti sayilarinin tarihe bagli ayri ayri grafiklerini cikart. (veya beraber de olabilir)\\n        - Hava kosullarindan iyi, orta, kotu, cok kotu gibi bir bilgi cikartmaya calis. Belki burada yapay zeka\\n        kullanabilirsin. orda bir formül belirlemek lazim ona göre siniflandirilir.\\n        \\n\""
      ]
     },
     "execution_count": 1,
     "metadata": {},
     "output_type": "execute_result"
    }
   ],
   "source": [
    "# -1-) Notlar\n",
    "\"\"\"\n",
    "    Her ilce icin esit sayida veri yok. Bu sayilar ilce_tarih_sayilari degiskeninde tutulu.\n",
    "\n",
    "    Yapilmasi gerekenler:\n",
    "        - Kesinti sayilarinin tarihe bagli ayri ayri grafiklerini cikart. (veya beraber de olabilir)\n",
    "        - Hava kosullarindan iyi, orta, kotu, cok kotu gibi bir bilgi cikartmaya calis. Belki burada yapay zeka\n",
    "        kullanabilirsin. orda bir formül belirlemek lazim ona göre siniflandirilir.\n",
    "        \n",
    "\"\"\""
   ]
  },
  {
   "cell_type": "code",
   "execution_count": 2,
   "metadata": {},
   "outputs": [],
   "source": [
    "# 0-) Import required moduls and libraries\n",
    "\n",
    "import pandas as pd\n",
    "import numpy as np\n",
    "from datetime import datetime, timezone, timedelta\n",
    "import seaborn as sns\n",
    "import matplotlib.pyplot as plt\n",
    "from matplotlib.ticker import FuncFormatter\n",
    "import math\n",
    "import os\n",
    "from unidecode import unidecode # to convert Turkish characters to English\n",
    "from statsmodels.tsa.seasonal import seasonal_decompose as sm\n",
    "import statsmodels.api as sa\n",
    "# bildirimisiz_sum tahmin edilecek"
   ]
  },
  {
   "cell_type": "code",
   "execution_count": 3,
   "metadata": {},
   "outputs": [
    {
     "name": "stdout",
     "output_type": "stream",
     "text": [
      "           tarih         ilce  bildirimsiz_sum  bildirimli_sum\n",
      "30436 2021-01-01  izmir-konak                9               0\n",
      "30437 2021-01-02  izmir-konak                5               0\n",
      "30438 2021-01-03  izmir-konak                5               0\n",
      "30439 2021-01-04  izmir-konak               11               0\n",
      "30440 2021-01-05  izmir-konak               11               0\n",
      "...          ...          ...              ...             ...\n",
      "31527 2023-12-30  izmir-konak               10               1\n",
      "31528 2023-12-31  izmir-konak                9               0\n",
      "31529 2024-01-01  izmir-konak               11               0\n",
      "31530 2024-01-02  izmir-konak                9               1\n",
      "31531 2024-01-03  izmir-konak                8               1\n",
      "\n",
      "[1096 rows x 4 columns]\n"
     ]
    }
   ],
   "source": [
    "# 1-) read and preproccess train.csv\n",
    "train = pd.read_csv(\"./train.csv\") # 46.944 satir, 4 kolon\n",
    "\n",
    "#print(train) # 1.098 farkli tarih var, 47 farkli ilce var\n",
    "\n",
    "tarihler = []\n",
    "for i in train[\"tarih\"]:\n",
    "    tarihler.append(datetime.strptime(i, \"%Y-%m-%d\"))\n",
    "train[\"tarih\"] = tarihler\n",
    "\n",
    "#print(train.dtypes)\n",
    "\n",
    "dict = {}\n",
    "for label, group in train.groupby(\"ilce\"):\n",
    "    dict[label] = group\n",
    "\n",
    "ilceler = (list(dict.keys()))\n",
    "print(dict[\"izmir-konak\"]) # keys olarak her ilceyi, values olarak o ilcelerin bulundugu satirlari icerir"
   ]
  },
  {
   "cell_type": "code",
   "execution_count": 4,
   "metadata": {},
   "outputs": [
    {
     "name": "stdout",
     "output_type": "stream",
     "text": [
      "{'izmir-aliaga': 1078, 'izmir-balcova': 681, 'izmir-bayindir': 1078, 'izmir-bayrakli': 1059, 'izmir-bergama': 1092, 'izmir-beydag': 658, 'izmir-bornova': 1096, 'izmir-buca': 1087, 'izmir-cesme': 1097, 'izmir-cigli': 1044, 'izmir-dikili': 1091, 'izmir-foca': 1058, 'izmir-gaziemir': 898, 'izmir-guzelbahce': 835, 'izmir-karabaglar': 1072, 'izmir-karaburun': 1063, 'izmir-karsiyaka': 1057, 'izmir-kemalpasa': 1091, 'izmir-kinik': 889, 'izmir-kiraz': 1069, 'izmir-konak': 1096, 'izmir-menderes': 1097, 'izmir-menemen': 1091, 'izmir-narlidere': 758, 'izmir-odemis': 1096, 'izmir-seferihisar': 1086, 'izmir-selcuk': 853, 'izmir-tire': 1079, 'izmir-torbali': 1096, 'izmir-urla': 1094, 'manisa-ahmetli': 600, 'manisa-akhisar': 1098, 'manisa-alasehir': 1091, 'manisa-demirci': 918, 'manisa-golmarmara': 555, 'manisa-gordes': 1033, 'manisa-kirkagac': 925, 'manisa-koprubasi': 781, 'manisa-kula': 1013, 'manisa-salihli': 1098, 'manisa-sarigol': 1000, 'manisa-saruhanli': 1079, 'manisa-sehzadeler': 1095, 'manisa-selendi': 971, 'manisa-soma': 1058, 'manisa-turgutlu': 1093, 'manisa-yunusemre': 1097}\n",
      "           tarih            ilce  bildirimsiz_sum  bildirimli_sum\n",
      "0     2021-01-01  manisa-akhisar                9               0\n",
      "1     2021-01-02  manisa-akhisar               10               0\n",
      "2     2021-01-03  manisa-akhisar                5               2\n",
      "3     2021-01-04  manisa-akhisar                6               0\n",
      "4     2021-01-05  manisa-akhisar               15               4\n",
      "...          ...             ...              ...             ...\n",
      "46939 2023-12-28    izmir-selcuk                1               0\n",
      "46940 2023-12-29    izmir-selcuk                1               1\n",
      "46941 2023-12-30    izmir-selcuk                0               2\n",
      "46942 2023-12-31    izmir-selcuk                1               0\n",
      "46943 2024-01-03    izmir-selcuk                3               0\n",
      "\n",
      "[46944 rows x 4 columns]\n"
     ]
    }
   ],
   "source": [
    "# 2-) extract ilce and keep preprocessing train.csv\n",
    "\"\"\"\n",
    "for label in dict.keys(): # her ilce icin bildirimsiz ve bildirimli olarak grafiklerini cikart\n",
    "    print(dict[label][\"bildirimsiz_sum\"])\n",
    "    plt.figure(figsize=(14,6))\n",
    "    plt.bar(dict[label][\"tarih\"],dict[label][\"bildirimsiz_sum\"])\n",
    "    plt.title(label)\n",
    "    plt.xticks(rotation=90)\n",
    "    plt.show()\n",
    "\"\"\"\n",
    "\"\"\"\n",
    "plt.figure(figsize=(14,6))\n",
    "plt.bar(dict[\"izmir-konak\"][\"tarih\"],dict[\"izmir-konak\"][\"bildirimsiz_sum\"])\n",
    "plt.title(label)\n",
    "plt.margins(0.01)\n",
    "plt.xticks(rotation=90)\n",
    "plt.show()\n",
    "\"\"\"\n",
    "# ilce tarih sayilarini al hepsinde esit veri yok\n",
    "ilce_tarih_sayilari = {}\n",
    "for name in dict.keys():\n",
    "    ilce_tarih_sayilari[name] = len(list(dict[name][\"tarih\"].to_dict().values()))\n",
    "\n",
    "print(ilce_tarih_sayilari)\n",
    "for name in dict.keys():\n",
    "    dict[name].set_index(\"tarih\", inplace=True)\n",
    "\n",
    "#train.set_index(\"tarih\", inplace=True) # train'in tarih kolonunu indexe cevir\n",
    "print(train)"
   ]
  },
  {
   "cell_type": "code",
   "execution_count": 23,
   "metadata": {},
   "outputs": [
    {
     "name": "stdout",
     "output_type": "stream",
     "text": [
      "Index(['date', 'lat', 'lon', 't_2m:C', 'effective_cloud_cover:p',\n",
      "       'global_rad:W', 'relative_humidity_2m:p', 'wind_dir_10m:d',\n",
      "       'wind_speed_10m:ms', 'prob_precip_1h:p', 't_apparent:C', 'ilce'],\n",
      "      dtype='object')\n",
      "bitti\n",
      "                lat      lon     t_2m:C  effective_cloud_cover:p  \\\n",
      "date                                                               \n",
      "2021-01-01  38.4177  27.1283  13.095833                59.033333   \n",
      "2021-01-02  38.4177  27.1283  13.379167                29.912500   \n",
      "2021-01-03  38.4177  27.1283  12.587500                69.916667   \n",
      "2021-01-04  38.4177  27.1283  13.783333                45.604167   \n",
      "2021-01-05  38.4177  27.1283  13.895833                35.670833   \n",
      "\n",
      "            global_rad:W  relative_humidity_2m:p  wind_dir_10m:d  \\\n",
      "date                                                               \n",
      "2021-01-01     65.212500               87.962500      137.558333   \n",
      "2021-01-02     91.225000               80.720833      134.820833   \n",
      "2021-01-03     34.962500               79.725000      142.316667   \n",
      "2021-01-04     79.400000               71.362500      138.641667   \n",
      "2021-01-05     92.666667               82.308333      161.516667   \n",
      "\n",
      "            wind_speed_10m:ms  prob_precip_1h:p  t_apparent:C      tarih  \n",
      "date                                                                      \n",
      "2021-01-01           3.129167          1.137500     13.891667 2021-01-01  \n",
      "2021-01-02           2.158333          1.000000     14.250000 2021-01-02  \n",
      "2021-01-03           2.300000          2.520833     12.937500 2021-01-03  \n",
      "2021-01-04           3.979167          1.000000     13.787500 2021-01-04  \n",
      "2021-01-05           2.591667         12.279167     14.850000 2021-01-05  \n"
     ]
    },
    {
     "name": "stderr",
     "output_type": "stream",
     "text": [
      "C:\\Users\\ökkeş\\AppData\\Local\\Temp\\ipykernel_10256\\2691552121.py:31: FutureWarning: The default value of numeric_only in DataFrameGroupBy.mean is deprecated. In a future version, numeric_only will default to False. Either specify numeric_only or select only columns which should be valid for the function.\n",
      "  ilce_weather[name] = ilce_weather[name].resample(\"D\").mean()\n"
     ]
    }
   ],
   "source": [
    "# 3-) read and preprocess weather.csv\n",
    "\n",
    "weather = pd.read_csv(\"./weather.csv\")\n",
    "print(weather.columns) # onemli kolonlar: date, t_apparent:C (hissedilen sicaklik), wind_dir_10m:d (ruzgar yonu),\n",
    "# wind_speed_10m:ms (ruzgar hizi), prob_precip_1h:p (yagis), ilce\n",
    "\n",
    "# ilceleri ayir\n",
    "ilce_weather = {} # keys olarak ilceleri, values olarak o ilcelerin saatlik hava durumklarini tutar\n",
    "for label, group in weather.groupby(\"ilce\"):\n",
    "    ilce_weather[label] = group\n",
    "\n",
    "\n",
    "# tarihleri tarih formatina cevir\n",
    "#print(ilce_weather[\"izmir-konak\"].dtypes)\n",
    "for name in ilce_weather.keys():\n",
    "    tarihler = []\n",
    "    for date in ilce_weather[name][\"date\"]:\n",
    "        tarihler.append(datetime.strptime(date, \"%Y-%m-%d %H:%M:%S\"))\n",
    "    ilce_weather[name][\"date\"] = tarihler\n",
    "print(\"bitti\")\n",
    "#print(ilce_weather[\"izmir-konak\"].dtypes)\n",
    "\n",
    "\n",
    "# tarihleri indexe cevir\n",
    "for name in ilce_weather.keys():\n",
    "    ilce_weather[name].set_index(\"date\", inplace=True)\n",
    "\n",
    "\n",
    "# tarhileri gun olarak birlestir\n",
    "for name in ilce_weather.keys():\n",
    "    ilce_weather[name] = ilce_weather[name].resample(\"D\").mean()\n",
    "\n",
    "\n",
    "# tarih kolonunu tekrardan olustur\n",
    "for name in ilce_weather.keys():\n",
    "    ilce_weather[name][\"tarih\"] = ilce_weather[name].index\n",
    "print(ilce_weather[\"izmir-konak\"].head())"
   ]
  },
  {
   "cell_type": "code",
   "execution_count": 6,
   "metadata": {},
   "outputs": [
    {
     "name": "stdout",
     "output_type": "stream",
     "text": [
      "    Yıl  Ay  Gün                              Bayram_Flag\n",
      "0  2021   1    1                                  Yılbaşı\n",
      "1  2021   4   23        Ulusal Egemenlik ve Çocuk Bayramı\n",
      "2  2021   5    1                   Emek ve Dayanışma Günü\n",
      "3  2021   5   19  Atatürk'ü Anma, Gençlik ve Spor Bayramı\n",
      "4  2021   7   15           Demokrasi ve Millî Birlik Günü\n",
      "                                        Bayram_Flag\n",
      "tarih                                              \n",
      "2021-01-01                                  Yılbaşı\n",
      "2021-04-23        Ulusal Egemenlik ve Çocuk Bayramı\n",
      "2021-05-01                   Emek ve Dayanışma Günü\n",
      "2021-05-19  Atatürk'ü Anma, Gençlik ve Spor Bayramı\n",
      "2021-07-15           Demokrasi ve Millî Birlik Günü\n"
     ]
    }
   ],
   "source": [
    "# 4-) read and preprocess holidays.csv\n",
    "\n",
    "holiday = pd.read_csv(\"./holidays.csv\")\n",
    "\n",
    "print(holiday.head())\n",
    "\n",
    "holiday[\"tarih\"] = holiday['Yıl'].astype(str) + '-' + holiday['Ay'].astype(str) + '-' + holiday['Gün'].astype(str)\n",
    "holiday['tarih'] = pd.to_datetime(holiday['tarih'], format='%Y-%m-%d')\n",
    "holiday.set_index(\"tarih\", inplace=True)\n",
    "holiday = holiday.drop(columns=[\"Yıl\", \"Ay\", \"Gün\"])\n",
    "\n",
    "print(holiday.head()) # index olarak tarihi (YY-AA-GG), Bayram_Flag olarak da bayram ismini tutar\n"
   ]
  },
  {
   "cell_type": "code",
   "execution_count": 7,
   "metadata": {},
   "outputs": [
    {
     "name": "stdout",
     "output_type": "stream",
     "text": [
      "                tarih         ilce  bildirimsiz_sum  bildirimli_sum  \\\n",
      "tarih                                                                 \n",
      "2021-01-01 2021-01-01  izmir-konak                9               0   \n",
      "2021-01-02 2021-01-02  izmir-konak                5               0   \n",
      "2021-01-03 2021-01-03  izmir-konak                5               0   \n",
      "2021-01-04 2021-01-04  izmir-konak               11               0   \n",
      "2021-01-05 2021-01-05  izmir-konak               11               0   \n",
      "...               ...          ...              ...             ...   \n",
      "2023-12-30 2023-12-30  izmir-konak               10               1   \n",
      "2023-12-31 2023-12-31  izmir-konak                9               0   \n",
      "2024-01-01 2024-01-01  izmir-konak               11               0   \n",
      "2024-01-02 2024-01-02  izmir-konak                9               1   \n",
      "2024-01-03 2024-01-03  izmir-konak                8               1   \n",
      "\n",
      "           Bayram_Flag  \n",
      "tarih                   \n",
      "2021-01-01     Yılbaşı  \n",
      "2021-01-02         NaN  \n",
      "2021-01-03         NaN  \n",
      "2021-01-04         NaN  \n",
      "2021-01-05         NaN  \n",
      "...                ...  \n",
      "2023-12-30         NaN  \n",
      "2023-12-31         NaN  \n",
      "2024-01-01     Yılbaşı  \n",
      "2024-01-02         NaN  \n",
      "2024-01-03         NaN  \n",
      "\n",
      "[1096 rows x 5 columns]\n"
     ]
    }
   ],
   "source": [
    "# 5-) merge the train data and holidays, return a new dict called dict_holiday\n",
    "\n",
    "def merge_holiday(df1, df2):\n",
    "    merged_df = pd.merge(df1, df2[\"Bayram_Flag\"], left_index=True, right_index=True, how=\"left\")\n",
    "    #df1[\"Bayramlar\"] = df2[\"Bayram_Flag\"]\n",
    "    return merged_df\n",
    "\n",
    "dict_holiday = {}\n",
    "for name in dict.keys():\n",
    "    dict_holiday[name] = merge_holiday(dict[name],holiday)\n",
    "    dict_holiday[name]['tarih'] = dict_holiday[name].index\n",
    "    dict_holiday[name] = dict_holiday[name].reindex(columns=[\"tarih\", \"ilce\", \"bildirimsiz_sum\", \"bildirimli_sum\", \"Bayram_Flag\"])\n",
    "    \n",
    "print(dict_holiday[\"izmir-konak\"])"
   ]
  },
  {
   "cell_type": "code",
   "execution_count": 22,
   "metadata": {},
   "outputs": [
    {
     "name": "stdout",
     "output_type": "stream",
     "text": [
      "                Tarih         Ilce  Bildirimsiz_sum  Bildirimli_sum  \\\n",
      "tarih                                                                 \n",
      "2023-12-30 2023-12-30  izmir-konak               10               1   \n",
      "2023-12-31 2023-12-31  izmir-konak                9               0   \n",
      "2024-01-01 2024-01-01  izmir-konak               11               0   \n",
      "2024-01-02 2024-01-02  izmir-konak                9               1   \n",
      "2024-01-03 2024-01-03  izmir-konak                8               1   \n",
      "\n",
      "           Bayram_Flag   Sicaklik  Bagil_Nem  Ruzgar_Hizi      Yagis   Gün  \n",
      "tarih                                                                       \n",
      "2023-12-30         NaN  13.262500  85.512500     2.391667   1.000000  1092  \n",
      "2023-12-31         NaN  14.383333  83.904167     1.991667   1.000000  1093  \n",
      "2024-01-01     Yılbaşı  13.379167  86.258333     2.104167  11.591667  1094  \n",
      "2024-01-02         NaN  12.662500  90.912500     2.645833   4.487500  1095  \n",
      "2024-01-03         NaN  13.112500  89.225000     2.808333   2.220833  1096  \n",
      "(1096, 10)\n"
     ]
    }
   ],
   "source": [
    "# 5-) merge the dict_holiday and weather, return merged_all which contains all of the required columns\n",
    "\n",
    "def merge_weather(df1, df2):\n",
    "    merged_df = pd.merge(df1, df2[[\"t_2m:C\",\"relative_humidity_2m:p\",\"wind_speed_10m:ms\",\"prob_precip_1h:p\"]], left_index=True, right_index=True, how=\"left\")\n",
    "    return merged_df\n",
    "\n",
    "merged_all = {} # key olarak tum ilceler, values olarak kesintiler, bayramlar, hava durumu verilerini tutan df'i tutar\n",
    "for name in dict_holiday.keys():\n",
    "    merged_all[name] = merge_weather(dict_holiday[name], ilce_weather[name])\n",
    "    merged_all[name].columns = [\"Tarih\", \"Ilce\", \"Bildirimsiz_sum\", \"Bildirimli_sum\", # tekrar isimlendir\n",
    "    \"Bayram_Flag\", \"Sicaklik\", \"Bagil_Nem\", \"Ruzgar_Hizi\", \"Yagis\"]\n",
    "    merged_all[name]['Gün'] = range(1, len(merged_all[name]) + 1)\n",
    "\n",
    "print(merged_all[\"izmir-konak\"].tail())\n",
    "print(merged_all[\"izmir-konak\"].shape)\n",
    "\n",
    "merged_all_week = {}\n",
    "for name in merged_all.keys():\n",
    "    merged_all_week[name] = merged_all[name].resample(\"W\").mean(numeric_only=True)\n",
    "#print(merged_all_week[\"izmir-konak\"])"
   ]
  },
  {
   "cell_type": "code",
   "execution_count": 18,
   "metadata": {},
   "outputs": [
    {
     "data": {
      "image/png": "[encoded data removed]",
      "text/plain": [
       "<Figure size 1400x600 with 1 Axes>"
      ]
     },
     "metadata": {},
     "output_type": "display_data"
    }
   ],
   "source": [
    "# 6-) her ilce icin grafikleri olustur. (trend, tahmin gibi parametreleri de göster)\n",
    "\n",
    "plt.figure(figsize=(14,6))\n",
    "plt.bar(merged_all_week[\"izmir-aliaga\"].index,merged_all_week[\"izmir-aliaga\"][\"Bildirimsiz_sum\"], width=5, label=\"Bildirimsiz\")\n",
    "plt.margins(0.01)\n",
    "plt.title(\"Izmir_Aliaga - Bildirimsiz\")\n",
    "plt.xticks(rotation=90)\n",
    "ayristirma2 = sm(merged_all_week[\"izmir-aliaga\"][\"Bildirimsiz_sum\"], model=\"mul\", period=3)\n",
    "#plt.plot(merged_all_week[\"izmir-aliaga\"][\"Bildirimsiz_sum\"].mean(), label=\"avg\", color=\"purple\")\n",
    "\"\"\"\n",
    "analiz = pd.concat([\n",
    "    ayristirma2.observed,\n",
    "    ayristirma2.trend,\n",
    "    ayristirma2.seasonal,\n",
    "    ayristirma2.observed/ayristirma2.seasonal # orijinal veri / S = T * E, regr. da üzerine tahmin yapılacak sey\n",
    "], axis=1)\n",
    "analiz.columns = [\"Orijinal Gözlem\", \"Trend\", \"Mevsimsellik\", \"Mevsimsellik Düzeltme\"]\n",
    "\n",
    "indeks = np.arange(1,len(df.index) + 1)\n",
    "\n",
    "\n",
    "X = sa.add_constant(indeks)\n",
    "model = sa.OLS(analiz[\"Mevsimsellik Düzeltme\"], X)\n",
    "sonuc = model.fit()\n",
    "\n",
    "y = pd.date_range(analiz.index[-1] + pd.DateOffset(month=3), periods=4,freq=\"M\") # 4 tane ekstra ay ekle\n",
    "\n",
    "yeni_satirlar = pd.DataFrame(index=y)\n",
    "analiz = pd.concat([analiz, yeni_satirlar])\n",
    "\n",
    "# not: bu degerleri ayarla\n",
    "mev = [\n",
    "    1.038656,\n",
    "    0.973940,\n",
    "    0.987404,\n",
    "    1.038656\n",
    "]\n",
    "\n",
    "nan_indices = analiz.index[analiz['Mevsimsellik'].isna()]\n",
    "for i, index in enumerate(nan_indices):\n",
    "    if i < len(mev):\n",
    "        analiz.at[index, 'Mevsimsellik'] = mev[i]\n",
    "print(analiz[\"Mevsimsellik\"])\n",
    "\n",
    "girdi = np.arange(1,len(df.index) + 5)\n",
    "regmodel = sonuc.predict(sa.add_constant(girdi))\n",
    "\n",
    "analiz[\"Tahmin\"] = analiz[\"Mevsimsellik\"] * regmodel\n",
    "\n",
    "\n",
    "plt.plot(analiz[\"Mevsimsellik Düzeltme\"], label=\"Mevsimsellik Düzeltme\")\n",
    "plt.plot(analiz[\"Orijinal Gözlem\"], label=\"Orijinal Gözlem\")\n",
    "plt.plot(analiz[\"Tahmin\"], label=\"Tahmin\")\n",
    "\"\"\"\n",
    "plt.plot(ayristirma2.trend, color=\"red\", label=\"trend\")\n",
    "plt.legend()\n",
    "plt.show()\n"
   ]
  },
  {
   "cell_type": "code",
   "execution_count": 10,
   "metadata": {},
   "outputs": [
    {
     "data": {
      "image/png": "[encoded data removed]",
      "text/plain": [
       "<Figure size 1400x600 with 1 Axes>"
      ]
     },
     "metadata": {},
     "output_type": "display_data"
    },
    {
     "name": "stdout",
     "output_type": "stream",
     "text": [
      "same as here\n"
     ]
    }
   ],
   "source": [
    "# 7-) farkli tur degiskenler arasi iliskeler grafiklenmeli (denenecek)\n",
    "\n",
    "plt.figure(figsize=(14,6))\n",
    "plt.bar(merged_all_week[\"izmir-aliaga\"][\"Yagis\"],merged_all_week[\"izmir-aliaga\"][\"Bildirimsiz_sum\"], width=0.05, label=\"Bildirimsiz\")\n",
    "plt.margins(0.01)\n",
    "plt.title(\"Izmir_Aliaga Yagis - Bildirimsiz\")\n",
    "plt.xticks(rotation=90)\n",
    "plt.show()\n",
    "print(\"same as here\")"
   ]
  }
 ],
 "metadata": {
  "kernelspec": {
   "display_name": "Python 3",
   "language": "python",
   "name": "python3"
  },
  "language_info": {
   "codemirror_mode": {
    "name": "ipython",
    "version": 3
   },
   "file_extension": ".py",
   "mimetype": "text/x-python",
   "name": "python",
   "nbconvert_exporter": "python",
   "pygments_lexer": "ipython3",
   "version": "3.11.1"
  }
 },
 "nbformat": 4,
 "nbformat_minor": 2
}
